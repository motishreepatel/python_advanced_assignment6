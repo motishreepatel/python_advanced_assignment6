{
 "cells": [
  {
   "cell_type": "code",
   "execution_count": null,
   "metadata": {},
   "outputs": [],
   "source": [
    "#Q1 - Describe three applications for exception processing.\n",
    "#Answer:\n",
    "Exception processing, also known as error handling or exception handling, is a crucial aspect of writing robust and reliable code. \n",
    "Here are three common applications for exception processing in Python:\n",
    "\n",
    "- Error Reporting and Handling: Exception processing allows you to catch and handle errors that occur during the execution of your code. \n",
    "It helps in identifying and reporting errors to the user in a controlled and informative manner, rather than allowing the program to crash \n",
    "or produce unexpected results. By catching exceptions, you can display meaningful error messages, log the error details, and gracefully \n",
    "handle exceptional situations to ensure the program continues running smoothly.\n",
    "\n",
    "- Input Validation and Error Recovery: Exception processing is useful for validating user input and detecting invalid or unexpected values. \n",
    "When processing user input, you can anticipate potential errors, such as incorrect data types, out-of-range values, or malformed input. \n",
    "By raising exceptions, you can notify the user of the issue and prompt them to provide valid input. Additionally, exception handling can \n",
    "help in recovering from errors by providing alternative paths or fallback options to ensure the program can continue execution even if \n",
    "certain inputs or operations fail.\n",
    "\n",
    "- Resource Management and Cleanup: Exception processing is instrumental in managing resources, such as file handling, network connections, \n",
    "and database connections. When working with external resources, exceptions can occur due to various factors, such as file not found, \n",
    "network errors, or database connectivity issues. Exception handling allows you to release or clean up resources properly, even in \n",
    "the presence of exceptions. For example, you can use the try-finally block to ensure that resources are closed or released regardless of \n",
    "whether an exception occurs."
   ]
  },
  {
   "cell_type": "code",
   "execution_count": 2,
   "metadata": {},
   "outputs": [
    {
     "ename": "ZeroDivisionError",
     "evalue": "division by zero",
     "output_type": "error",
     "traceback": [
      "\u001b[0;31m---------------------------------------------------------------------------\u001b[0m",
      "\u001b[0;31mZeroDivisionError\u001b[0m                         Traceback (most recent call last)",
      "Cell \u001b[0;32mIn[2], line 16\u001b[0m\n\u001b[1;32m     13\u001b[0m \u001b[38;5;28;01mdef\u001b[39;00m \u001b[38;5;21mdivide\u001b[39m(a, b):\n\u001b[1;32m     14\u001b[0m     \u001b[38;5;28;01mreturn\u001b[39;00m a \u001b[38;5;241m/\u001b[39m b\n\u001b[0;32m---> 16\u001b[0m result \u001b[38;5;241m=\u001b[39m \u001b[43mdivide\u001b[49m\u001b[43m(\u001b[49m\u001b[38;5;241;43m10\u001b[39;49m\u001b[43m,\u001b[49m\u001b[43m \u001b[49m\u001b[38;5;241;43m0\u001b[39;49m\u001b[43m)\u001b[49m\n\u001b[1;32m     17\u001b[0m \u001b[38;5;28mprint\u001b[39m(result)\n",
      "Cell \u001b[0;32mIn[2], line 14\u001b[0m, in \u001b[0;36mdivide\u001b[0;34m(a, b)\u001b[0m\n\u001b[1;32m     13\u001b[0m \u001b[38;5;28;01mdef\u001b[39;00m \u001b[38;5;21mdivide\u001b[39m(a, b):\n\u001b[0;32m---> 14\u001b[0m     \u001b[38;5;28;01mreturn\u001b[39;00m \u001b[43ma\u001b[49m\u001b[43m \u001b[49m\u001b[38;5;241;43m/\u001b[39;49m\u001b[43m \u001b[49m\u001b[43mb\u001b[49m\n",
      "\u001b[0;31mZeroDivisionError\u001b[0m: division by zero"
     ]
    }
   ],
   "source": [
    "#Q2 - What happens if you don&#39;t do something extra to treat an exception?\n",
    "#Answer:\n",
    "\n",
    "'''If an exception is not handled or treated in some way, it will result in an unhandled exception, causing the program to terminate abruptly \n",
    "and display an error message. The default behavior in Python, when an exception is not caught or handled explicitly, is to print a traceback \n",
    "and terminate the program.\n",
    "\n",
    "When an unhandled exception occurs, the program's execution is halted, and the control flow jumps to the nearest exception handling mechanism. \n",
    "If there is no exception handling mechanism in place, the program terminates, and an error message is displayed, indicating the type of \n",
    "exception and the traceback information.'''\n",
    "\n",
    "#Exp:\n",
    "def divide(a, b):\n",
    "    return a / b\n",
    "\n",
    "result = divide(10, 0)\n",
    "print(result)\n"
   ]
  },
  {
   "cell_type": "code",
   "execution_count": null,
   "metadata": {},
   "outputs": [],
   "source": [
    "#Q3 - What are your options for recovering from an exception in your script?\n",
    "#Answer:\n",
    "When an exception occurs in a script, you have several options for recovering from the exception and continuing the execution of your code. \n",
    "Here are some common strategies for exception recovery:\n",
    "\n",
    "- Exception Handling with try-except\n",
    "- Graceful Degradation or Fallback Behavior\n",
    "- Error Reporting and Logging\n",
    "- Graceful Termination\n"
   ]
  },
  {
   "cell_type": "code",
   "execution_count": 3,
   "metadata": {},
   "outputs": [
    {
     "ename": "ValueError",
     "evalue": "Age cannot be negative",
     "output_type": "error",
     "traceback": [
      "\u001b[0;31m---------------------------------------------------------------------------\u001b[0m",
      "\u001b[0;31mValueError\u001b[0m                                Traceback (most recent call last)",
      "Cell \u001b[0;32mIn[3], line 13\u001b[0m\n\u001b[1;32m     10\u001b[0m         \u001b[38;5;28;01mraise\u001b[39;00m \u001b[38;5;167;01mValueError\u001b[39;00m(\u001b[38;5;124m\"\u001b[39m\u001b[38;5;124mInvalid age\u001b[39m\u001b[38;5;124m\"\u001b[39m)\n\u001b[1;32m     12\u001b[0m \u001b[38;5;66;03m# Triggering exception by calling the function\u001b[39;00m\n\u001b[0;32m---> 13\u001b[0m \u001b[43mvalidate_age\u001b[49m\u001b[43m(\u001b[49m\u001b[38;5;241;43m-\u001b[39;49m\u001b[38;5;241;43m5\u001b[39;49m\u001b[43m)\u001b[49m\n\u001b[1;32m     16\u001b[0m \u001b[38;5;124;03m'''- Invoke a Function or Method that Raises an Exception: '''\u001b[39;00m\n\u001b[1;32m     17\u001b[0m \u001b[38;5;66;03m#Exp:\u001b[39;00m\n",
      "Cell \u001b[0;32mIn[3], line 8\u001b[0m, in \u001b[0;36mvalidate_age\u001b[0;34m(age)\u001b[0m\n\u001b[1;32m      6\u001b[0m \u001b[38;5;28;01mdef\u001b[39;00m \u001b[38;5;21mvalidate_age\u001b[39m(age):\n\u001b[1;32m      7\u001b[0m     \u001b[38;5;28;01mif\u001b[39;00m age \u001b[38;5;241m<\u001b[39m \u001b[38;5;241m0\u001b[39m:\n\u001b[0;32m----> 8\u001b[0m         \u001b[38;5;28;01mraise\u001b[39;00m \u001b[38;5;167;01mValueError\u001b[39;00m(\u001b[38;5;124m\"\u001b[39m\u001b[38;5;124mAge cannot be negative\u001b[39m\u001b[38;5;124m\"\u001b[39m)\n\u001b[1;32m      9\u001b[0m     \u001b[38;5;28;01mif\u001b[39;00m age \u001b[38;5;241m>\u001b[39m \u001b[38;5;241m120\u001b[39m:\n\u001b[1;32m     10\u001b[0m         \u001b[38;5;28;01mraise\u001b[39;00m \u001b[38;5;167;01mValueError\u001b[39;00m(\u001b[38;5;124m\"\u001b[39m\u001b[38;5;124mInvalid age\u001b[39m\u001b[38;5;124m\"\u001b[39m)\n",
      "\u001b[0;31mValueError\u001b[0m: Age cannot be negative"
     ]
    }
   ],
   "source": [
    "#Q4 - Describe two methods for triggering exceptions in your script.\n",
    "#Answer:\n",
    "'''To trigger exceptions in your script, you can use two methods:\n",
    "- Raise an Exception Manually: '''\n",
    "#Exp:\n",
    "def validate_age(age):\n",
    "    if age < 0:\n",
    "        raise ValueError(\"Age cannot be negative\")\n",
    "    if age > 120:\n",
    "        raise ValueError(\"Invalid age\")\n",
    "\n",
    "# Triggering exception by calling the function\n",
    "validate_age(-5)\n",
    "\n",
    "\n",
    "'''- Invoke a Function or Method that Raises an Exception: '''\n",
    "#Exp:\n",
    "def divide(a, b):\n",
    "    if b == 0:\n",
    "        raise ZeroDivisionError(\"Cannot divide by zero\")\n",
    "    return a / b\n",
    "\n",
    "# Triggering exception by calling the function\n",
    "result = divide(10, 0)\n"
   ]
  },
  {
   "cell_type": "code",
   "execution_count": 4,
   "metadata": {},
   "outputs": [
    {
     "name": "stdout",
     "output_type": "stream",
     "text": [
      "An error occurred while reading the file.\n",
      "Cleanup code executed.\n"
     ]
    },
    {
     "data": {
      "text/plain": [
       "<function __main__.cleanup()>"
      ]
     },
     "execution_count": 4,
     "metadata": {},
     "output_type": "execute_result"
    }
   ],
   "source": [
    "#Q5 - Identify two methods for specifying actions to be executed at termination time, regardless of whether or not an exception exists.\n",
    "#Answer:\n",
    "'''To specify actions to be executed at termination time, regardless of whether or not an exception exists, you can use the following two methods:\n",
    "\n",
    "- Using a finally Block:'''\n",
    "#Exp:\n",
    "file = None\n",
    "try:\n",
    "    file = open(\"data.txt\", \"r\")\n",
    "    # Perform some operations with the file\n",
    "    # ...\n",
    "except IOError:\n",
    "    print(\"An error occurred while reading the file.\")\n",
    "finally:\n",
    "    if file is not None:\n",
    "        file.close()\n",
    "    print(\"Cleanup code executed.\")\n",
    "\n",
    "\n",
    "'''- Using the atexit Module:'''\n",
    "#Exp:\n",
    "import atexit\n",
    "\n",
    "def cleanup():\n",
    "    print(\"Cleanup code executed.\")\n",
    "\n",
    "# Registering the cleanup function\n",
    "atexit.register(cleanup)\n",
    "\n"
   ]
  },
  {
   "cell_type": "code",
   "execution_count": null,
   "metadata": {},
   "outputs": [],
   "source": []
  }
 ],
 "metadata": {
  "kernelspec": {
   "display_name": "Python 3.9.6 64-bit",
   "language": "python",
   "name": "python3"
  },
  "language_info": {
   "codemirror_mode": {
    "name": "ipython",
    "version": 3
   },
   "file_extension": ".py",
   "mimetype": "text/x-python",
   "name": "python",
   "nbconvert_exporter": "python",
   "pygments_lexer": "ipython3",
   "version": "3.9.6"
  },
  "orig_nbformat": 4,
  "vscode": {
   "interpreter": {
    "hash": "31f2aee4e71d21fbe5cf8b01ff0e069b9275f58929596ceb00d14d90e3e16cd6"
   }
  }
 },
 "nbformat": 4,
 "nbformat_minor": 2
}
